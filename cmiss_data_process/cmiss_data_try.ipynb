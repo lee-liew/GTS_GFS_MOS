{
 "cells": [
  {
   "cell_type": "code",
   "execution_count": 1,
   "metadata": {},
   "outputs": [],
   "source": [
    "import os\n",
    "import pandas as pd\n",
    "import matplotlib.pyplot as plt\n",
    "plt.rcParams['font.sans-serif']=['SimHei'] #用来正常显示中文标签\n",
    "plt.rcParams['axes.unicode_minus']=False #\n",
    "file0= pd.read_csv('/home/liuli/OBS_ZZ/coads.csv',sep=',',encoding='ISO-8859-1')\n",
    "df0=pd.DataFrame(file0)\n"
   ]
  },
  {
   "cell_type": "code",
   "execution_count": 2,
   "metadata": {},
   "outputs": [
    {
     "name": "stdout",
     "output_type": "stream",
     "text": [
      "   YEAR  MONTH  DAY  HOUR  LONGITUDE  LATITUDE  BOX10  BOX5  DECK  PT  ...    \\\n",
      "0  1950      1   21    18      327.0      62.0    102     2   116   3  ...     \n",
      "1  1950      1   21    21      327.0      62.0    102     2   116   3  ...     \n",
      "2  1950      1   22     0      327.0      62.0    102     2   116   3  ...     \n",
      "3  1950      1   22     3      327.0      62.0    102     2   116   3  ...     \n",
      "4  1950      1   22     6      327.0      62.0    102     2   116   3  ...     \n",
      "\n",
      "   MC  HC    H  DP03  WH   WP  SH  SD  SP  ODATE  \n",
      "0   0   0  4.0  -0.4 NaN  7.0 NaN NaN NaN    NaN  \n",
      "1   0   0  4.0  -0.1 NaN  7.0 NaN NaN NaN    NaN  \n",
      "2   0   0  4.0   0.0 NaN  7.0 NaN NaN NaN    NaN  \n",
      "3   0   0  4.0  -0.1 NaN  7.0 NaN NaN NaN    NaN  \n",
      "4   0   0  4.0  -0.2 NaN  7.0 NaN NaN NaN    NaN  \n",
      "\n",
      "[5 rows x 34 columns]\n"
     ]
    }
   ],
   "source": [
    "print(df0.head(5))"
   ]
  },
  {
   "cell_type": "code",
   "execution_count": 3,
   "metadata": {},
   "outputs": [
    {
     "name": "stdout",
     "output_type": "stream",
     "text": [
      "           YEAR  MONTH  DAY  HOUR  LONGITUDE  LATITUDE  BOX10  BOX5  DECK  PT  \\\n",
      "100103479  1995     12    9     4      137.0     -63.6    551     4   714   7   \n",
      "100103480  1995     12    9     8      137.0     -63.6    551     4   714   7   \n",
      "100103481  1995     12    9     9      137.0     -63.6    551     4   714   7   \n",
      "100103482  1995     12    9    13      137.1     -63.6    551     4   714   7   \n",
      "100103483  1995     12    9    14      137.1     -63.6    551     4   714   7   \n",
      "\n",
      "           ...    MC  HC   H  DP03  WH  WP  SH  SD  SP  ODATE  \n",
      "100103479  ...     0   0 NaN   NaN NaN NaN NaN NaN NaN    NaN  \n",
      "100103480  ...     0   0 NaN   NaN NaN NaN NaN NaN NaN    NaN  \n",
      "100103481  ...     0   0 NaN   NaN NaN NaN NaN NaN NaN    NaN  \n",
      "100103482  ...     0   0 NaN   NaN NaN NaN NaN NaN NaN    NaN  \n",
      "100103483  ...     0   0 NaN   NaN NaN NaN NaN NaN NaN    NaN  \n",
      "\n",
      "[5 rows x 34 columns]\n"
     ]
    }
   ],
   "source": [
    "print(df0.tail(5))"
   ]
  },
  {
   "cell_type": "code",
   "execution_count": 5,
   "metadata": {},
   "outputs": [
    {
     "name": "stdout",
     "output_type": "stream",
     "text": [
      "Index(['YEAR', 'MONTH', 'DAY', 'HOUR', 'LONGITUDE', 'LATITUDE', 'BOX10',\n",
      "       'BOX5', 'DECK', 'PT', 'WD', 'WS', 'VIS', 'WW', 'W1', 'W2', 'SLP', 'AT',\n",
      "       'WBT', 'TD', 'SST', 'N', 'NH', 'LC', 'MC', 'HC', 'H', 'DP03', 'WH',\n",
      "       'WP', 'SH', 'SD', 'SP', 'ODATE'],\n",
      "      dtype='object')\n"
     ]
    }
   ],
   "source": [
    "print(df0.columns)"
   ]
  },
  {
   "cell_type": "code",
   "execution_count": 6,
   "metadata": {},
   "outputs": [],
   "source": [
    "file1= pd.read_csv('/home/liuli/OBS_ZZ/ZH_OCEA02_LAYS.csv',sep=',',encoding='ISO-8859-1')\n",
    "df1=pd.DataFrame(file1)"
   ]
  },
  {
   "cell_type": "code",
   "execution_count": 7,
   "metadata": {},
   "outputs": [
    {
     "name": "stdout",
     "output_type": "stream",
     "text": [
      "        OID  YEAR  MONTH  DAY  HOUR  MINUTE              ODATE      LDATE  \\\n",
      "0  Q9900395  2011      3   29     6      20  2011/3/29 6:20:00  2011/3/29   \n",
      "1  Q9900395  2011      3   29     6      20  2011/3/29 6:20:00  2011/3/29   \n",
      "2  Q9900395  2011      3   29     6      20  2011/3/29 6:20:00  2011/3/29   \n",
      "3  Q9900395  2011      3   29     6      20  2011/3/29 6:20:00  2011/3/29   \n",
      "4  Q9900395  2011      3   29     6      20  2011/3/29 6:20:00  2011/3/29   \n",
      "\n",
      "   LTIME  LATITUDE  ...      ST     SS  SFD  SFS  Q_DEPTH  Q_ST  Q_SS  Q_SFD  \\\n",
      "0      6    -72.75  ...   -1.88  34.42  NaN  NaN       70    70    70      0   \n",
      "1      6    -72.75  ...   -1.87  34.42  NaN  NaN       70    70    70      0   \n",
      "2      6    -72.75  ...   -1.88  34.42  NaN  NaN       70    70    70      0   \n",
      "3      6    -72.75  ...   -1.88  34.42  NaN  NaN       70    70    70      0   \n",
      "4      6    -72.75  ...   -1.88  34.42  NaN  NaN       70    70    70      0   \n",
      "\n",
      "   Q_SFS  STAMP  \n",
      "0      0    NaN  \n",
      "1      0    NaN  \n",
      "2      0    NaN  \n",
      "3      0    NaN  \n",
      "4      0    NaN  \n",
      "\n",
      "[5 rows x 23 columns]\n"
     ]
    }
   ],
   "source": [
    "print(df1.head(5))"
   ]
  },
  {
   "cell_type": "code",
   "execution_count": 8,
   "metadata": {},
   "outputs": [
    {
     "name": "stdout",
     "output_type": "stream",
     "text": [
      "             OID  YEAR  MONTH  DAY  HOUR  MINUTE                ODATE  \\\n",
      "231518353  42934  2017     12   31    23      59  2017/12/31 23:59:00   \n",
      "231518354  42934  2017     12   31    23      59  2017/12/31 23:59:00   \n",
      "231518355  42934  2017     12   31    23      59  2017/12/31 23:59:00   \n",
      "231518356  42934  2017     12   31    23      59  2017/12/31 23:59:00   \n",
      "231518357  42934  2017     12   31    23      59  2017/12/31 23:59:00   \n",
      "\n",
      "              LDATE  LTIME  LATITUDE  ...    ST  SS   SFD   SFS  Q_DEPTH  \\\n",
      "231518353  2018/1/1      0    28.367  ...   NaN NaN  60.0  0.09       70   \n",
      "231518354  2018/1/1      0    28.367  ...   NaN NaN  50.0  0.11       70   \n",
      "231518355  2018/1/1      0    28.367  ...   NaN NaN  60.0  0.11       70   \n",
      "231518356  2018/1/1      0    28.367  ...   NaN NaN  80.0  0.10       70   \n",
      "231518357  2018/1/1      0    28.367  ...   NaN NaN  70.0  0.15       70   \n",
      "\n",
      "           Q_ST  Q_SS  Q_SFD  Q_SFS  STAMP  \n",
      "231518353     0     0     70     70    NaN  \n",
      "231518354     0     0     70     70    NaN  \n",
      "231518355     0     0     70     70    NaN  \n",
      "231518356     0     0     70     70    NaN  \n",
      "231518357     0     0     70     70    NaN  \n",
      "\n",
      "[5 rows x 23 columns]\n"
     ]
    }
   ],
   "source": [
    "print(df1.tail(5))"
   ]
  },
  {
   "cell_type": "code",
   "execution_count": 9,
   "metadata": {},
   "outputs": [
    {
     "name": "stdout",
     "output_type": "stream",
     "text": [
      "Index(['OID', 'YEAR', 'MONTH', 'DAY', 'HOUR', 'MINUTE', 'ODATE', 'LDATE',\n",
      "       'LTIME', 'LATITUDE', 'LONGITUDE', 'TYPE', 'DEPTH', 'ST', 'SS', 'SFD',\n",
      "       'SFS', 'Q_DEPTH', 'Q_ST', 'Q_SS', 'Q_SFD', 'Q_SFS', 'STAMP'],\n",
      "      dtype='object')\n"
     ]
    }
   ],
   "source": [
    "print(df1.columns)"
   ]
  },
  {
   "cell_type": "code",
   "execution_count": null,
   "metadata": {},
   "outputs": [],
   "source": []
  }
 ],
 "metadata": {
  "kernelspec": {
   "display_name": "Python 3",
   "language": "python",
   "name": "python3"
  },
  "language_info": {
   "codemirror_mode": {
    "name": "ipython",
    "version": 3
   },
   "file_extension": ".py",
   "mimetype": "text/x-python",
   "name": "python",
   "nbconvert_exporter": "python",
   "pygments_lexer": "ipython3",
   "version": "3.5.6"
  }
 },
 "nbformat": 4,
 "nbformat_minor": 4
}
