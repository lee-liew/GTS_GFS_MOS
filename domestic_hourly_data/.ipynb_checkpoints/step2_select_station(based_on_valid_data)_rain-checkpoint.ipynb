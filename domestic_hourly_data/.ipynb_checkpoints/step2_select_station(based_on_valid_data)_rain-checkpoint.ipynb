{
 "cells": [
  {
   "cell_type": "markdown",
   "metadata": {},
   "source": [
    "#主要是针对每个站点的每个要素统计有效数据情况"
   ]
  },
  {
   "cell_type": "code",
   "execution_count": null,
   "metadata": {
    "collapsed": true
   },
   "outputs": [],
   "source": [
    "import numpy as np\n",
    "import os\n",
    "import matplotlib.pyplot as plt\n",
    "import glob\n",
    "import datetime\n",
    "import pandas as pd\n",
    "data_path='/home/liuli/GTS_GFS_MOS/domestic_hourly_data/df_final_1100(rain).csv'\n",
    "file0= pd.read_csv(data_path,sep=',')\n",
    "df0=pd.DataFrame(file0)\n",
    "df0=df0.replace(999999.0, np.nan) \n",
    "df0=df0.replace(999998.0, np.nan)\n",
    "df0=df0.replace(9999.0, np.nan)\n",
    "df0['sta']=df0['sta'].astype('str')\n",
    "#df0['sta']=df0['sta'].replace('NaN','53603')\n",
    "df0['time']=pd.DatetimeIndex(df0['time'])\n",
    "\n",
    "print(df0.info())\n",
    "print(df0.count())\n",
    "df0"
   ]
  },
  {
   "cell_type": "code",
   "execution_count": null,
   "metadata": {
    "collapsed": true
   },
   "outputs": [],
   "source": [
    "start='2018-01-01 00:00:00'\n",
    "end_of_db = '2019-01-01 00:00:00'\n",
    "date_index = pd.date_range(start, end_of_db, freq = '3h')\n",
    "date_df = pd.DataFrame(date_index,columns=['time'])\n",
    "df0 = pd.merge(date_df,df0, on=['time'], how='left') \n",
    "df0"
   ]
  },
  {
   "cell_type": "code",
   "execution_count": null,
   "metadata": {
    "collapsed": true
   },
   "outputs": [],
   "source": [
    "#申明一个不重复站点的df\n",
    "df_qc=df0.drop_duplicates(subset = ['sta'],keep='first',inplace=False)\n",
    "print(df_qc)"
   ]
  },
  {
   "cell_type": "code",
   "execution_count": null,
   "metadata": {
    "collapsed": true
   },
   "outputs": [],
   "source": [
    "#开始针每个站点的每个要素统计有效数字\n",
    "cols=['ps','psl','t2m','td','wdir','wspd']\n",
    "name = 'statistics_valid_data_0.8.txt'\n",
    "f=open(name,'w')\n",
    "for i in df_qc['sta']:   \n",
    "    df2=df0[df0['sta'].isin([i])] #先挑出这个站号的行    \n",
    "    df2=df2.reset_index(drop=True)\n",
    "    #print(df2)  \n",
    "    #print(df2)\n",
    "    \n",
    "    for co in cols:   #去掉前几个站点位置属性信息     \n",
    "        num=df2[co].count()\n",
    "        rate=num/len(df2)\n",
    "        if rate>=0.8: #\n",
    "            line=[]\n",
    "            line=str(i)+'\\t'+str(co)+'\\t'+str(rate)+'\\n'\n",
    "            f.write(line)\n",
    "        #把每种要素的有效率结果存入文件\n",
    "        #print(i,co,rate)\n",
    "    del df2"
   ]
  },
  {
   "cell_type": "code",
   "execution_count": null,
   "metadata": {
    "collapsed": true
   },
   "outputs": [],
   "source": []
  }
 ],
 "metadata": {
  "kernelspec": {
   "display_name": "Python 3",
   "language": "python",
   "name": "python3"
  },
  "language_info": {
   "codemirror_mode": {
    "name": "ipython",
    "version": 3
   },
   "file_extension": ".py",
   "mimetype": "text/x-python",
   "name": "python",
   "nbconvert_exporter": "python",
   "pygments_lexer": "ipython3",
   "version": "3.5.4"
  }
 },
 "nbformat": 4,
 "nbformat_minor": 2
}
