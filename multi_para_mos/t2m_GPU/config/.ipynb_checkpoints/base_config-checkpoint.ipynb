{
 "cells": [
  {
   "cell_type": "code",
   "execution_count": null,
   "metadata": {},
   "outputs": [],
   "source": [
    "import os\n",
    "import sys\n",
    "SID_ALL_LST = [\n",
    "    'EEE1048', 'EEE1127', 'EEE1140', 'EEE1144', 'EEE1702', 'EEE1703',\n",
    "    'EEE1707', 'EEE1736', 'EEE1753', 'EEE1755', 'EEE1813', 'EEE1821',\n",
    "    'EEE1822', 'EEE1904', 'EEE1908', 'EEE2104', 'EEE2122', 'EEE2130',\n",
    "    'EEE2134', 'EEE2136', 'EEE2179', 'EEE2203', 'EEE2204', 'EEE2248',\n",
    "    'EEE2252', 'EEE2935', 'EEE2957', 'EEE3529', 'EEE3707', 'EEE3814',\n",
    "    'EEE1101', 'EEE1102', 'EEE1103', 'EEE1108', 'EEE1705', 'EEE1734', 'EEE4312'\n",
    "]\n",
    "SID_TODO = [isid for isid in SID_ALL_LST ]\n",
    "\n"
   ]
  }
 ],
 "metadata": {
  "kernelspec": {
   "display_name": "Python 3",
   "language": "python",
   "name": "python3"
  },
  "language_info": {
   "codemirror_mode": {
    "name": "ipython",
    "version": 3
   },
   "file_extension": ".py",
   "mimetype": "text/x-python",
   "name": "python",
   "nbconvert_exporter": "python",
   "pygments_lexer": "ipython3",
   "version": "3.5.6"
  }
 },
 "nbformat": 4,
 "nbformat_minor": 4
}
