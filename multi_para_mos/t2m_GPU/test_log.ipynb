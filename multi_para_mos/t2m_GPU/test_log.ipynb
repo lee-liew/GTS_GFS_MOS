{
 "cells": [
  {
   "cell_type": "code",
   "execution_count": 1,
   "metadata": {},
   "outputs": [
    {
     "name": "stdout",
     "output_type": "stream",
     "text": [
      "******************** 2020-05-21 13:30:56 ********************\n",
      "输出结果为：..................................\n"
     ]
    }
   ],
   "source": [
    "import sys\n",
    "import time\n",
    "class Logger(object):\n",
    "    def __init__(self, fileN=\"Default.log\"):\n",
    "        self.terminal = sys.stdout\n",
    "        self.log = open(fileN, \"a\",encoding='utf-8')     #文件权限为'a'，追加模式\n",
    " \n",
    "    def write(self, message):\n",
    "        self.terminal.write(message)\n",
    "        self.log.write(message)\n",
    " \n",
    "    def flush(self):\n",
    "        pass\n",
    " \n",
    " \n",
    "sys.stdout = Logger(\"./log.txt\")  # 保存到D盘\n",
    "print('*'*20,time.strftime('%Y-%m-%d %H:%M:%S',time.localtime(time.time())),'*'*20)\n",
    "print('输出结果为：..................................')\n",
    "\n"
   ]
  },
  {
   "cell_type": "code",
   "execution_count": null,
   "metadata": {},
   "outputs": [],
   "source": []
  }
 ],
 "metadata": {
  "kernelspec": {
   "display_name": "Python 3",
   "language": "python",
   "name": "python3"
  },
  "language_info": {
   "codemirror_mode": {
    "name": "ipython",
    "version": 3
   },
   "file_extension": ".py",
   "mimetype": "text/x-python",
   "name": "python",
   "nbconvert_exporter": "python",
   "pygments_lexer": "ipython3",
   "version": "3.5.6"
  }
 },
 "nbformat": 4,
 "nbformat_minor": 4
}
